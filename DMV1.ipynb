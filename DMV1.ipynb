{
 "cells": [
  {
   "cell_type": "code",
   "execution_count": 1,
   "id": "7fa3e136-b632-4018-834b-a80049bec4d0",
   "metadata": {},
   "outputs": [],
   "source": [
    "import pandas as pd\n",
    "import numpy as np\n",
    "import json"
   ]
  },
  {
   "cell_type": "code",
   "execution_count": 2,
   "id": "3696b1e7-15a9-4acf-8974-295c6adbdadd",
   "metadata": {},
   "outputs": [],
   "source": [
    "df1=pd.read_csv('sales_data_sample.csv', encoding = ('ISO-8859-1'), index_col = 0)\n",
    "df2=pd.read_excel(\"Sales.xlsx\")"
   ]
  },
  {
   "cell_type": "code",
   "execution_count": 3,
   "id": "22b6c442-c964-4181-ae54-75db359831fa",
   "metadata": {},
   "outputs": [
    {
     "data": {
      "text/html": [
       "<div>\n",
       "<style scoped>\n",
       "    .dataframe tbody tr th:only-of-type {\n",
       "        vertical-align: middle;\n",
       "    }\n",
       "\n",
       "    .dataframe tbody tr th {\n",
       "        vertical-align: top;\n",
       "    }\n",
       "\n",
       "    .dataframe thead th {\n",
       "        text-align: right;\n",
       "    }\n",
       "</style>\n",
       "<table border=\"1\" class=\"dataframe\">\n",
       "  <thead>\n",
       "    <tr style=\"text-align: right;\">\n",
       "      <th></th>\n",
       "      <th>QUANTITYORDERED</th>\n",
       "      <th>PRICEEACH</th>\n",
       "      <th>ORDERLINENUMBER</th>\n",
       "      <th>SALES</th>\n",
       "      <th>ORDERDATE</th>\n",
       "      <th>STATUS</th>\n",
       "      <th>QTR_ID</th>\n",
       "      <th>MONTH_ID</th>\n",
       "      <th>YEAR_ID</th>\n",
       "      <th>PRODUCTLINE</th>\n",
       "      <th>...</th>\n",
       "      <th>ADDRESSLINE1</th>\n",
       "      <th>ADDRESSLINE2</th>\n",
       "      <th>CITY</th>\n",
       "      <th>STATE</th>\n",
       "      <th>POSTALCODE</th>\n",
       "      <th>COUNTRY</th>\n",
       "      <th>TERRITORY</th>\n",
       "      <th>CONTACTLASTNAME</th>\n",
       "      <th>CONTACTFIRSTNAME</th>\n",
       "      <th>DEALSIZE</th>\n",
       "    </tr>\n",
       "    <tr>\n",
       "      <th>ORDERNUMBER</th>\n",
       "      <th></th>\n",
       "      <th></th>\n",
       "      <th></th>\n",
       "      <th></th>\n",
       "      <th></th>\n",
       "      <th></th>\n",
       "      <th></th>\n",
       "      <th></th>\n",
       "      <th></th>\n",
       "      <th></th>\n",
       "      <th></th>\n",
       "      <th></th>\n",
       "      <th></th>\n",
       "      <th></th>\n",
       "      <th></th>\n",
       "      <th></th>\n",
       "      <th></th>\n",
       "      <th></th>\n",
       "      <th></th>\n",
       "      <th></th>\n",
       "      <th></th>\n",
       "    </tr>\n",
       "  </thead>\n",
       "  <tbody>\n",
       "    <tr>\n",
       "      <th>10107</th>\n",
       "      <td>30</td>\n",
       "      <td>95.70</td>\n",
       "      <td>2</td>\n",
       "      <td>2871.00</td>\n",
       "      <td>2/24/2003 0:00</td>\n",
       "      <td>Shipped</td>\n",
       "      <td>1</td>\n",
       "      <td>2</td>\n",
       "      <td>2003</td>\n",
       "      <td>Motorcycles</td>\n",
       "      <td>...</td>\n",
       "      <td>897 Long Airport Avenue</td>\n",
       "      <td>NaN</td>\n",
       "      <td>NYC</td>\n",
       "      <td>NY</td>\n",
       "      <td>10022</td>\n",
       "      <td>USA</td>\n",
       "      <td>NaN</td>\n",
       "      <td>Yu</td>\n",
       "      <td>Kwai</td>\n",
       "      <td>Small</td>\n",
       "    </tr>\n",
       "    <tr>\n",
       "      <th>10121</th>\n",
       "      <td>34</td>\n",
       "      <td>81.35</td>\n",
       "      <td>5</td>\n",
       "      <td>2765.90</td>\n",
       "      <td>5/7/2003 0:00</td>\n",
       "      <td>Shipped</td>\n",
       "      <td>2</td>\n",
       "      <td>5</td>\n",
       "      <td>2003</td>\n",
       "      <td>Motorcycles</td>\n",
       "      <td>...</td>\n",
       "      <td>59 rue de l'Abbaye</td>\n",
       "      <td>NaN</td>\n",
       "      <td>Reims</td>\n",
       "      <td>NaN</td>\n",
       "      <td>51100</td>\n",
       "      <td>France</td>\n",
       "      <td>EMEA</td>\n",
       "      <td>Henriot</td>\n",
       "      <td>Paul</td>\n",
       "      <td>Small</td>\n",
       "    </tr>\n",
       "    <tr>\n",
       "      <th>10134</th>\n",
       "      <td>41</td>\n",
       "      <td>94.74</td>\n",
       "      <td>2</td>\n",
       "      <td>3884.34</td>\n",
       "      <td>7/1/2003 0:00</td>\n",
       "      <td>Shipped</td>\n",
       "      <td>3</td>\n",
       "      <td>7</td>\n",
       "      <td>2003</td>\n",
       "      <td>Motorcycles</td>\n",
       "      <td>...</td>\n",
       "      <td>27 rue du Colonel Pierre Avia</td>\n",
       "      <td>NaN</td>\n",
       "      <td>Paris</td>\n",
       "      <td>NaN</td>\n",
       "      <td>75508</td>\n",
       "      <td>France</td>\n",
       "      <td>EMEA</td>\n",
       "      <td>Da Cunha</td>\n",
       "      <td>Daniel</td>\n",
       "      <td>Medium</td>\n",
       "    </tr>\n",
       "    <tr>\n",
       "      <th>10145</th>\n",
       "      <td>45</td>\n",
       "      <td>83.26</td>\n",
       "      <td>6</td>\n",
       "      <td>3746.70</td>\n",
       "      <td>8/25/2003 0:00</td>\n",
       "      <td>Shipped</td>\n",
       "      <td>3</td>\n",
       "      <td>8</td>\n",
       "      <td>2003</td>\n",
       "      <td>Motorcycles</td>\n",
       "      <td>...</td>\n",
       "      <td>78934 Hillside Dr.</td>\n",
       "      <td>NaN</td>\n",
       "      <td>Pasadena</td>\n",
       "      <td>CA</td>\n",
       "      <td>90003</td>\n",
       "      <td>USA</td>\n",
       "      <td>NaN</td>\n",
       "      <td>Young</td>\n",
       "      <td>Julie</td>\n",
       "      <td>Medium</td>\n",
       "    </tr>\n",
       "    <tr>\n",
       "      <th>10159</th>\n",
       "      <td>49</td>\n",
       "      <td>100.00</td>\n",
       "      <td>14</td>\n",
       "      <td>5205.27</td>\n",
       "      <td>10/10/2003 0:00</td>\n",
       "      <td>Shipped</td>\n",
       "      <td>4</td>\n",
       "      <td>10</td>\n",
       "      <td>2003</td>\n",
       "      <td>Motorcycles</td>\n",
       "      <td>...</td>\n",
       "      <td>7734 Strong St.</td>\n",
       "      <td>NaN</td>\n",
       "      <td>San Francisco</td>\n",
       "      <td>CA</td>\n",
       "      <td>NaN</td>\n",
       "      <td>USA</td>\n",
       "      <td>NaN</td>\n",
       "      <td>Brown</td>\n",
       "      <td>Julie</td>\n",
       "      <td>Medium</td>\n",
       "    </tr>\n",
       "  </tbody>\n",
       "</table>\n",
       "<p>5 rows × 24 columns</p>\n",
       "</div>"
      ],
      "text/plain": [
       "             QUANTITYORDERED  PRICEEACH  ORDERLINENUMBER    SALES  \\\n",
       "ORDERNUMBER                                                         \n",
       "10107                     30      95.70                2  2871.00   \n",
       "10121                     34      81.35                5  2765.90   \n",
       "10134                     41      94.74                2  3884.34   \n",
       "10145                     45      83.26                6  3746.70   \n",
       "10159                     49     100.00               14  5205.27   \n",
       "\n",
       "                   ORDERDATE   STATUS  QTR_ID  MONTH_ID  YEAR_ID  PRODUCTLINE  \\\n",
       "ORDERNUMBER                                                                     \n",
       "10107         2/24/2003 0:00  Shipped       1         2     2003  Motorcycles   \n",
       "10121          5/7/2003 0:00  Shipped       2         5     2003  Motorcycles   \n",
       "10134          7/1/2003 0:00  Shipped       3         7     2003  Motorcycles   \n",
       "10145         8/25/2003 0:00  Shipped       3         8     2003  Motorcycles   \n",
       "10159        10/10/2003 0:00  Shipped       4        10     2003  Motorcycles   \n",
       "\n",
       "             ...                   ADDRESSLINE1 ADDRESSLINE2           CITY  \\\n",
       "ORDERNUMBER  ...                                                              \n",
       "10107        ...        897 Long Airport Avenue          NaN            NYC   \n",
       "10121        ...             59 rue de l'Abbaye          NaN          Reims   \n",
       "10134        ...  27 rue du Colonel Pierre Avia          NaN          Paris   \n",
       "10145        ...             78934 Hillside Dr.          NaN       Pasadena   \n",
       "10159        ...                7734 Strong St.          NaN  San Francisco   \n",
       "\n",
       "            STATE POSTALCODE COUNTRY TERRITORY CONTACTLASTNAME  \\\n",
       "ORDERNUMBER                                                      \n",
       "10107          NY      10022     USA       NaN              Yu   \n",
       "10121         NaN      51100  France      EMEA         Henriot   \n",
       "10134         NaN      75508  France      EMEA        Da Cunha   \n",
       "10145          CA      90003     USA       NaN           Young   \n",
       "10159          CA        NaN     USA       NaN           Brown   \n",
       "\n",
       "            CONTACTFIRSTNAME DEALSIZE  \n",
       "ORDERNUMBER                            \n",
       "10107                   Kwai    Small  \n",
       "10121                   Paul    Small  \n",
       "10134                 Daniel   Medium  \n",
       "10145                  Julie   Medium  \n",
       "10159                  Julie   Medium  \n",
       "\n",
       "[5 rows x 24 columns]"
      ]
     },
     "execution_count": 3,
     "metadata": {},
     "output_type": "execute_result"
    }
   ],
   "source": [
    "df1.head()"
   ]
  },
  {
   "cell_type": "code",
   "execution_count": 4,
   "id": "9d68bf03-ab1c-41f3-bf0d-96bbcea4ad73",
   "metadata": {},
   "outputs": [
    {
     "data": {
      "text/html": [
       "<div>\n",
       "<style scoped>\n",
       "    .dataframe tbody tr th:only-of-type {\n",
       "        vertical-align: middle;\n",
       "    }\n",
       "\n",
       "    .dataframe tbody tr th {\n",
       "        vertical-align: top;\n",
       "    }\n",
       "\n",
       "    .dataframe thead th {\n",
       "        text-align: right;\n",
       "    }\n",
       "</style>\n",
       "<table border=\"1\" class=\"dataframe\">\n",
       "  <thead>\n",
       "    <tr style=\"text-align: right;\">\n",
       "      <th></th>\n",
       "      <th>SALES_ID</th>\n",
       "      <th>SALES_BY_REGION</th>\n",
       "      <th>JANUARY</th>\n",
       "      <th>FEBRUARY</th>\n",
       "      <th>MARCH</th>\n",
       "      <th>APRIL</th>\n",
       "      <th>MAY</th>\n",
       "      <th>JUNE</th>\n",
       "      <th>JULY</th>\n",
       "      <th>AUGUST</th>\n",
       "      <th>SEPTEMBER</th>\n",
       "      <th>OCTOBER</th>\n",
       "      <th>NOVEMBER</th>\n",
       "      <th>DECEMBER</th>\n",
       "    </tr>\n",
       "  </thead>\n",
       "  <tbody>\n",
       "    <tr>\n",
       "      <th>0</th>\n",
       "      <td>16</td>\n",
       "      <td>UAQ</td>\n",
       "      <td>n.a.</td>\n",
       "      <td>5941</td>\n",
       "      <td>3487</td>\n",
       "      <td>-1</td>\n",
       "      <td>5433</td>\n",
       "      <td>3511</td>\n",
       "      <td>2555</td>\n",
       "      <td>n.a.</td>\n",
       "      <td>1929</td>\n",
       "      <td>4285</td>\n",
       "      <td>1198</td>\n",
       "      <td>-1</td>\n",
       "    </tr>\n",
       "    <tr>\n",
       "      <th>1</th>\n",
       "      <td>10</td>\n",
       "      <td>FUJ</td>\n",
       "      <td>1085</td>\n",
       "      <td>5189</td>\n",
       "      <td>n.a.</td>\n",
       "      <td>1142</td>\n",
       "      <td>1951</td>\n",
       "      <td>3967</td>\n",
       "      <td>1993</td>\n",
       "      <td>5116</td>\n",
       "      <td>3785</td>\n",
       "      <td>2733</td>\n",
       "      <td>5686</td>\n",
       "      <td>n.a.</td>\n",
       "    </tr>\n",
       "    <tr>\n",
       "      <th>2</th>\n",
       "      <td>28</td>\n",
       "      <td>AUH</td>\n",
       "      <td>-1</td>\n",
       "      <td>1796</td>\n",
       "      <td>2472</td>\n",
       "      <td>4829</td>\n",
       "      <td>2194</td>\n",
       "      <td>-1</td>\n",
       "      <td>1142</td>\n",
       "      <td>1674</td>\n",
       "      <td>5857</td>\n",
       "      <td>1500</td>\n",
       "      <td>3219</td>\n",
       "      <td>5033</td>\n",
       "    </tr>\n",
       "    <tr>\n",
       "      <th>3</th>\n",
       "      <td>8</td>\n",
       "      <td>DXB</td>\n",
       "      <td>3490</td>\n",
       "      <td>not avilable</td>\n",
       "      <td>1317</td>\n",
       "      <td>2351</td>\n",
       "      <td>1864</td>\n",
       "      <td>n.a.</td>\n",
       "      <td>4161</td>\n",
       "      <td>1131</td>\n",
       "      <td>2173</td>\n",
       "      <td>4005</td>\n",
       "      <td>5238</td>\n",
       "      <td>1396</td>\n",
       "    </tr>\n",
       "    <tr>\n",
       "      <th>4</th>\n",
       "      <td>5</td>\n",
       "      <td>FUJ</td>\n",
       "      <td>2152</td>\n",
       "      <td>3064</td>\n",
       "      <td>3981</td>\n",
       "      <td>2958</td>\n",
       "      <td>3794</td>\n",
       "      <td>5453</td>\n",
       "      <td>3324</td>\n",
       "      <td>n.a.</td>\n",
       "      <td>1516</td>\n",
       "      <td>5640</td>\n",
       "      <td>1301</td>\n",
       "      <td>5513</td>\n",
       "    </tr>\n",
       "  </tbody>\n",
       "</table>\n",
       "</div>"
      ],
      "text/plain": [
       "   SALES_ID SALES_BY_REGION JANUARY      FEBRUARY MARCH  APRIL   MAY  JUNE  \\\n",
       "0        16             UAQ    n.a.          5941  3487     -1  5433  3511   \n",
       "1        10             FUJ    1085          5189  n.a.   1142  1951  3967   \n",
       "2        28             AUH      -1          1796  2472   4829  2194    -1   \n",
       "3         8             DXB    3490  not avilable  1317   2351  1864  n.a.   \n",
       "4         5             FUJ    2152          3064  3981   2958  3794  5453   \n",
       "\n",
       "   JULY AUGUST  SEPTEMBER OCTOBER  NOVEMBER DECEMBER  \n",
       "0  2555   n.a.       1929    4285      1198       -1  \n",
       "1  1993   5116       3785    2733      5686     n.a.  \n",
       "2  1142   1674       5857    1500      3219     5033  \n",
       "3  4161   1131       2173    4005      5238     1396  \n",
       "4  3324   n.a.       1516    5640      1301     5513  "
      ]
     },
     "execution_count": 4,
     "metadata": {},
     "output_type": "execute_result"
    }
   ],
   "source": [
    "df2.head()"
   ]
  },
  {
   "cell_type": "code",
   "execution_count": 5,
   "id": "99e0c8c1-6b87-4157-bbad-d6418db03792",
   "metadata": {},
   "outputs": [
    {
     "data": {
      "text/plain": [
       "(2823, 24)"
      ]
     },
     "execution_count": 5,
     "metadata": {},
     "output_type": "execute_result"
    }
   ],
   "source": [
    "df1.shape"
   ]
  },
  {
   "cell_type": "code",
   "execution_count": 6,
   "id": "c3598a77-15fa-4f96-98f2-255b20d68430",
   "metadata": {},
   "outputs": [
    {
     "data": {
      "text/plain": [
       "(98, 14)"
      ]
     },
     "execution_count": 6,
     "metadata": {},
     "output_type": "execute_result"
    }
   ],
   "source": [
    "df2.shape"
   ]
  },
  {
   "cell_type": "code",
   "execution_count": 7,
   "id": "89c37e61-4c0c-40fe-9691-8f42dd89fb15",
   "metadata": {},
   "outputs": [
    {
     "name": "stdout",
     "output_type": "stream",
     "text": [
      "<class 'pandas.core.frame.DataFrame'>\n",
      "Index: 2823 entries, 10107 to 10414\n",
      "Data columns (total 24 columns):\n",
      " #   Column            Non-Null Count  Dtype  \n",
      "---  ------            --------------  -----  \n",
      " 0   QUANTITYORDERED   2823 non-null   int64  \n",
      " 1   PRICEEACH         2823 non-null   float64\n",
      " 2   ORDERLINENUMBER   2823 non-null   int64  \n",
      " 3   SALES             2823 non-null   float64\n",
      " 4   ORDERDATE         2823 non-null   object \n",
      " 5   STATUS            2823 non-null   object \n",
      " 6   QTR_ID            2823 non-null   int64  \n",
      " 7   MONTH_ID          2823 non-null   int64  \n",
      " 8   YEAR_ID           2823 non-null   int64  \n",
      " 9   PRODUCTLINE       2823 non-null   object \n",
      " 10  MSRP              2823 non-null   int64  \n",
      " 11  PRODUCTCODE       2823 non-null   object \n",
      " 12  CUSTOMERNAME      2823 non-null   object \n",
      " 13  PHONE             2823 non-null   object \n",
      " 14  ADDRESSLINE1      2823 non-null   object \n",
      " 15  ADDRESSLINE2      302 non-null    object \n",
      " 16  CITY              2823 non-null   object \n",
      " 17  STATE             1337 non-null   object \n",
      " 18  POSTALCODE        2747 non-null   object \n",
      " 19  COUNTRY           2823 non-null   object \n",
      " 20  TERRITORY         1749 non-null   object \n",
      " 21  CONTACTLASTNAME   2823 non-null   object \n",
      " 22  CONTACTFIRSTNAME  2823 non-null   object \n",
      " 23  DEALSIZE          2823 non-null   object \n",
      "dtypes: float64(2), int64(6), object(16)\n",
      "memory usage: 551.4+ KB\n"
     ]
    }
   ],
   "source": [
    "df1.info()"
   ]
  },
  {
   "cell_type": "code",
   "execution_count": 8,
   "id": "2fd8a461-2352-4167-925e-ed69026a1bc3",
   "metadata": {},
   "outputs": [
    {
     "name": "stdout",
     "output_type": "stream",
     "text": [
      "<class 'pandas.core.frame.DataFrame'>\n",
      "RangeIndex: 98 entries, 0 to 97\n",
      "Data columns (total 14 columns):\n",
      " #   Column           Non-Null Count  Dtype \n",
      "---  ------           --------------  ----- \n",
      " 0   SALES_ID         98 non-null     int64 \n",
      " 1   SALES_BY_REGION  98 non-null     object\n",
      " 2   JANUARY          98 non-null     object\n",
      " 3   FEBRUARY         98 non-null     object\n",
      " 4   MARCH            98 non-null     object\n",
      " 5   APRIL            98 non-null     int64 \n",
      " 6   MAY              98 non-null     int64 \n",
      " 7   JUNE             98 non-null     object\n",
      " 8   JULY             98 non-null     object\n",
      " 9   AUGUST           98 non-null     object\n",
      " 10  SEPTEMBER        98 non-null     int64 \n",
      " 11  OCTOBER          98 non-null     object\n",
      " 12  NOVEMBER         98 non-null     int64 \n",
      " 13  DECEMBER         98 non-null     object\n",
      "dtypes: int64(5), object(9)\n",
      "memory usage: 10.8+ KB\n"
     ]
    }
   ],
   "source": [
    "df2.info()"
   ]
  },
  {
   "cell_type": "code",
   "execution_count": 9,
   "id": "771275a0-bf2c-4d2a-8314-84ade9b4df74",
   "metadata": {},
   "outputs": [
    {
     "data": {
      "text/plain": [
       "QUANTITYORDERED        0\n",
       "PRICEEACH              0\n",
       "ORDERLINENUMBER        0\n",
       "SALES                  0\n",
       "ORDERDATE              0\n",
       "STATUS                 0\n",
       "QTR_ID                 0\n",
       "MONTH_ID               0\n",
       "YEAR_ID                0\n",
       "PRODUCTLINE            0\n",
       "MSRP                   0\n",
       "PRODUCTCODE            0\n",
       "CUSTOMERNAME           0\n",
       "PHONE                  0\n",
       "ADDRESSLINE1           0\n",
       "ADDRESSLINE2        2521\n",
       "CITY                   0\n",
       "STATE               1486\n",
       "POSTALCODE            76\n",
       "COUNTRY                0\n",
       "TERRITORY           1074\n",
       "CONTACTLASTNAME        0\n",
       "CONTACTFIRSTNAME       0\n",
       "DEALSIZE               0\n",
       "dtype: int64"
      ]
     },
     "execution_count": 9,
     "metadata": {},
     "output_type": "execute_result"
    }
   ],
   "source": [
    "df1.isnull().sum()"
   ]
  },
  {
   "cell_type": "code",
   "execution_count": 10,
   "id": "774c1617-3013-49de-aedc-5476c1176c18",
   "metadata": {},
   "outputs": [
    {
     "data": {
      "text/plain": [
       "SALES_ID           0\n",
       "SALES_BY_REGION    0\n",
       "JANUARY            0\n",
       "FEBRUARY           0\n",
       "MARCH              0\n",
       "APRIL              0\n",
       "MAY                0\n",
       "JUNE               0\n",
       "JULY               0\n",
       "AUGUST             0\n",
       "SEPTEMBER          0\n",
       "OCTOBER            0\n",
       "NOVEMBER           0\n",
       "DECEMBER           0\n",
       "dtype: int64"
      ]
     },
     "execution_count": 10,
     "metadata": {},
     "output_type": "execute_result"
    }
   ],
   "source": [
    "df2.isnull().sum()"
   ]
  },
  {
   "cell_type": "code",
   "execution_count": 11,
   "id": "43f9a74d-7dc0-447d-8650-a4f3cd43f18e",
   "metadata": {},
   "outputs": [],
   "source": [
    "df1.drop(columns=['TERRITORY','ADDRESSLINE2','STATE'],inplace=True)"
   ]
  },
  {
   "cell_type": "code",
   "execution_count": 12,
   "id": "08346aa2-d194-4bd0-80ac-c42ac4c6fdf4",
   "metadata": {},
   "outputs": [
    {
     "name": "stdout",
     "output_type": "stream",
     "text": [
      "<class 'pandas.core.frame.DataFrame'>\n",
      "Index: 2823 entries, 10107 to 10414\n",
      "Data columns (total 21 columns):\n",
      " #   Column            Non-Null Count  Dtype  \n",
      "---  ------            --------------  -----  \n",
      " 0   QUANTITYORDERED   2823 non-null   int64  \n",
      " 1   PRICEEACH         2823 non-null   float64\n",
      " 2   ORDERLINENUMBER   2823 non-null   int64  \n",
      " 3   SALES             2823 non-null   float64\n",
      " 4   ORDERDATE         2823 non-null   object \n",
      " 5   STATUS            2823 non-null   object \n",
      " 6   QTR_ID            2823 non-null   int64  \n",
      " 7   MONTH_ID          2823 non-null   int64  \n",
      " 8   YEAR_ID           2823 non-null   int64  \n",
      " 9   PRODUCTLINE       2823 non-null   object \n",
      " 10  MSRP              2823 non-null   int64  \n",
      " 11  PRODUCTCODE       2823 non-null   object \n",
      " 12  CUSTOMERNAME      2823 non-null   object \n",
      " 13  PHONE             2823 non-null   object \n",
      " 14  ADDRESSLINE1      2823 non-null   object \n",
      " 15  CITY              2823 non-null   object \n",
      " 16  POSTALCODE        2747 non-null   object \n",
      " 17  COUNTRY           2823 non-null   object \n",
      " 18  CONTACTLASTNAME   2823 non-null   object \n",
      " 19  CONTACTFIRSTNAME  2823 non-null   object \n",
      " 20  DEALSIZE          2823 non-null   object \n",
      "dtypes: float64(2), int64(6), object(13)\n",
      "memory usage: 485.2+ KB\n"
     ]
    }
   ],
   "source": [
    "df1.info()"
   ]
  },
  {
   "cell_type": "code",
   "execution_count": 13,
   "id": "384a734a-08b6-4f86-95db-335c8a8b5ca3",
   "metadata": {},
   "outputs": [
    {
     "name": "stderr",
     "output_type": "stream",
     "text": [
      "C:\\Users\\hp\\AppData\\Local\\Temp\\ipykernel_20880\\793519993.py:1: FutureWarning: A value is trying to be set on a copy of a DataFrame or Series through chained assignment using an inplace method.\n",
      "The behavior will change in pandas 3.0. This inplace method will never work because the intermediate object on which we are setting values always behaves as a copy.\n",
      "\n",
      "For example, when doing 'df[col].method(value, inplace=True)', try using 'df.method({col: value}, inplace=True)' or df[col] = df[col].method(value) instead, to perform the operation inplace on the original object.\n",
      "\n",
      "\n",
      "  df1['POSTALCODE'].fillna(df1['POSTALCODE'].mode()[0],inplace=True)\n"
     ]
    }
   ],
   "source": [
    "df1['POSTALCODE'].fillna(df1['POSTALCODE'].mode()[0],inplace=True)"
   ]
  },
  {
   "cell_type": "code",
   "execution_count": 14,
   "id": "f8a4909f-874e-43d8-8c95-94fdbe1e08f0",
   "metadata": {},
   "outputs": [
    {
     "data": {
      "text/plain": [
       "QUANTITYORDERED     0\n",
       "PRICEEACH           0\n",
       "ORDERLINENUMBER     0\n",
       "SALES               0\n",
       "ORDERDATE           0\n",
       "STATUS              0\n",
       "QTR_ID              0\n",
       "MONTH_ID            0\n",
       "YEAR_ID             0\n",
       "PRODUCTLINE         0\n",
       "MSRP                0\n",
       "PRODUCTCODE         0\n",
       "CUSTOMERNAME        0\n",
       "PHONE               0\n",
       "ADDRESSLINE1        0\n",
       "CITY                0\n",
       "POSTALCODE          0\n",
       "COUNTRY             0\n",
       "CONTACTLASTNAME     0\n",
       "CONTACTFIRSTNAME    0\n",
       "DEALSIZE            0\n",
       "dtype: int64"
      ]
     },
     "execution_count": 14,
     "metadata": {},
     "output_type": "execute_result"
    }
   ],
   "source": [
    "df1.isnull().sum()"
   ]
  },
  {
   "cell_type": "code",
   "execution_count": 15,
   "id": "c2d71eb9-98a8-4f2a-b306-d46af443a45e",
   "metadata": {},
   "outputs": [],
   "source": [
    "df1.drop_duplicates(inplace=True)\n",
    "df2.drop_duplicates(inplace=True)"
   ]
  },
  {
   "cell_type": "markdown",
   "id": "d4982533-7b72-4fb2-801e-6a71685bef0b",
   "metadata": {
    "jp-MarkdownHeadingCollapsed": true
   },
   "source": [
    "## merged_df = pd.merge(customer_df, interaction_df, on='customer_id', how='inner')"
   ]
  },
  {
   "cell_type": "markdown",
   "id": "a2b1521a-516c-4922-95c7-503b94a21989",
   "metadata": {},
   "source": [
    "## to merge the two dataframes "
   ]
  },
  {
   "cell_type": "code",
   "execution_count": 18,
   "id": "d06389ed-add4-4860-82c7-7cd67780a36b",
   "metadata": {},
   "outputs": [
    {
     "data": {
      "text/plain": [
       "<Axes: xlabel='SALES'>"
      ]
     },
     "execution_count": 18,
     "metadata": {},
     "output_type": "execute_result"
    },
    {
     "data": {
      "image/png": "[encoded data removed]",
      "text/plain": [
       "<Figure size 640x480 with 1 Axes>"
      ]
     },
     "metadata": {},
     "output_type": "display_data"
    }
   ],
   "source": [
    "import seaborn as sns\n",
    "sns.boxplot(x='SALES', data = df1)"
   ]
  },
  {
   "cell_type": "code",
   "execution_count": 19,
   "id": "500f7671-5826-40fc-ae85-d1b4dd4dbc5e",
   "metadata": {},
   "outputs": [
    {
     "name": "stdout",
     "output_type": "stream",
     "text": [
      "Addition of all sales 10032628.85\n"
     ]
    }
   ],
   "source": [
    "sum_sales = df1['SALES'].sum()\n",
    "print(\"Addition of all sales\",sum_sales)"
   ]
  },
  {
   "cell_type": "code",
   "execution_count": 20,
   "id": "4501ea67-6f05-4791-9ccb-50b9ff3bf406",
   "metadata": {},
   "outputs": [
    {
     "name": "stdout",
     "output_type": "stream",
     "text": [
      "Avg of all sales 3553.889071909316\n"
     ]
    }
   ],
   "source": [
    "sum_sales = df1['SALES'].mean()\n",
    "print(\"Avg of all sales\",sum_sales)"
   ]
  },
  {
   "cell_type": "code",
   "execution_count": 21,
   "id": "f2c62520-7c2c-48da-b480-2d67d0ee74c2",
   "metadata": {},
   "outputs": [
    {
     "data": {
      "text/plain": [
       "0"
      ]
     },
     "execution_count": 21,
     "metadata": {},
     "output_type": "execute_result"
    }
   ],
   "source": [
    "df1['SALES'].isnull().sum()"
   ]
  },
  {
   "cell_type": "code",
   "execution_count": 22,
   "id": "877268b3-146e-4258-9e1e-16b68315a5db",
   "metadata": {},
   "outputs": [
    {
     "data": {
      "text/html": [
       "<div>\n",
       "<style scoped>\n",
       "    .dataframe tbody tr th:only-of-type {\n",
       "        vertical-align: middle;\n",
       "    }\n",
       "\n",
       "    .dataframe tbody tr th {\n",
       "        vertical-align: top;\n",
       "    }\n",
       "\n",
       "    .dataframe thead th {\n",
       "        text-align: right;\n",
       "    }\n",
       "</style>\n",
       "<table border=\"1\" class=\"dataframe\">\n",
       "  <thead>\n",
       "    <tr style=\"text-align: right;\">\n",
       "      <th></th>\n",
       "      <th>QUANTITYORDERED</th>\n",
       "      <th>PRICEEACH</th>\n",
       "      <th>ORDERLINENUMBER</th>\n",
       "      <th>SALES</th>\n",
       "      <th>QTR_ID</th>\n",
       "      <th>MONTH_ID</th>\n",
       "      <th>YEAR_ID</th>\n",
       "      <th>MSRP</th>\n",
       "    </tr>\n",
       "  </thead>\n",
       "  <tbody>\n",
       "    <tr>\n",
       "      <th>count</th>\n",
       "      <td>2823.000000</td>\n",
       "      <td>2823.000000</td>\n",
       "      <td>2823.000000</td>\n",
       "      <td>2823.000000</td>\n",
       "      <td>2823.000000</td>\n",
       "      <td>2823.000000</td>\n",
       "      <td>2823.00000</td>\n",
       "      <td>2823.000000</td>\n",
       "    </tr>\n",
       "    <tr>\n",
       "      <th>mean</th>\n",
       "      <td>35.092809</td>\n",
       "      <td>83.658544</td>\n",
       "      <td>6.466171</td>\n",
       "      <td>3553.889072</td>\n",
       "      <td>2.717676</td>\n",
       "      <td>7.092455</td>\n",
       "      <td>2003.81509</td>\n",
       "      <td>100.715551</td>\n",
       "    </tr>\n",
       "    <tr>\n",
       "      <th>std</th>\n",
       "      <td>9.741443</td>\n",
       "      <td>20.174277</td>\n",
       "      <td>4.225841</td>\n",
       "      <td>1841.865106</td>\n",
       "      <td>1.203878</td>\n",
       "      <td>3.656633</td>\n",
       "      <td>0.69967</td>\n",
       "      <td>40.187912</td>\n",
       "    </tr>\n",
       "    <tr>\n",
       "      <th>min</th>\n",
       "      <td>6.000000</td>\n",
       "      <td>26.880000</td>\n",
       "      <td>1.000000</td>\n",
       "      <td>482.130000</td>\n",
       "      <td>1.000000</td>\n",
       "      <td>1.000000</td>\n",
       "      <td>2003.00000</td>\n",
       "      <td>33.000000</td>\n",
       "    </tr>\n",
       "    <tr>\n",
       "      <th>25%</th>\n",
       "      <td>27.000000</td>\n",
       "      <td>68.860000</td>\n",
       "      <td>3.000000</td>\n",
       "      <td>2203.430000</td>\n",
       "      <td>2.000000</td>\n",
       "      <td>4.000000</td>\n",
       "      <td>2003.00000</td>\n",
       "      <td>68.000000</td>\n",
       "    </tr>\n",
       "    <tr>\n",
       "      <th>50%</th>\n",
       "      <td>35.000000</td>\n",
       "      <td>95.700000</td>\n",
       "      <td>6.000000</td>\n",
       "      <td>3184.800000</td>\n",
       "      <td>3.000000</td>\n",
       "      <td>8.000000</td>\n",
       "      <td>2004.00000</td>\n",
       "      <td>99.000000</td>\n",
       "    </tr>\n",
       "    <tr>\n",
       "      <th>75%</th>\n",
       "      <td>43.000000</td>\n",
       "      <td>100.000000</td>\n",
       "      <td>9.000000</td>\n",
       "      <td>4508.000000</td>\n",
       "      <td>4.000000</td>\n",
       "      <td>11.000000</td>\n",
       "      <td>2004.00000</td>\n",
       "      <td>124.000000</td>\n",
       "    </tr>\n",
       "    <tr>\n",
       "      <th>max</th>\n",
       "      <td>97.000000</td>\n",
       "      <td>100.000000</td>\n",
       "      <td>18.000000</td>\n",
       "      <td>14082.800000</td>\n",
       "      <td>4.000000</td>\n",
       "      <td>12.000000</td>\n",
       "      <td>2005.00000</td>\n",
       "      <td>214.000000</td>\n",
       "    </tr>\n",
       "  </tbody>\n",
       "</table>\n",
       "</div>"
      ],
      "text/plain": [
       "       QUANTITYORDERED    PRICEEACH  ORDERLINENUMBER         SALES  \\\n",
       "count      2823.000000  2823.000000      2823.000000   2823.000000   \n",
       "mean         35.092809    83.658544         6.466171   3553.889072   \n",
       "std           9.741443    20.174277         4.225841   1841.865106   \n",
       "min           6.000000    26.880000         1.000000    482.130000   \n",
       "25%          27.000000    68.860000         3.000000   2203.430000   \n",
       "50%          35.000000    95.700000         6.000000   3184.800000   \n",
       "75%          43.000000   100.000000         9.000000   4508.000000   \n",
       "max          97.000000   100.000000        18.000000  14082.800000   \n",
       "\n",
       "            QTR_ID     MONTH_ID     YEAR_ID         MSRP  \n",
       "count  2823.000000  2823.000000  2823.00000  2823.000000  \n",
       "mean      2.717676     7.092455  2003.81509   100.715551  \n",
       "std       1.203878     3.656633     0.69967    40.187912  \n",
       "min       1.000000     1.000000  2003.00000    33.000000  \n",
       "25%       2.000000     4.000000  2003.00000    68.000000  \n",
       "50%       3.000000     8.000000  2004.00000    99.000000  \n",
       "75%       4.000000    11.000000  2004.00000   124.000000  \n",
       "max       4.000000    12.000000  2005.00000   214.000000  "
      ]
     },
     "execution_count": 22,
     "metadata": {},
     "output_type": "execute_result"
    }
   ],
   "source": [
    "df1.describe()"
   ]
  },
  {
   "cell_type": "code",
   "execution_count": 23,
   "id": "7ec34740-80a6-442b-b075-edf504aee49a",
   "metadata": {},
   "outputs": [
    {
     "data": {
      "text/plain": [
       "<Axes: xlabel='SALES'>"
      ]
     },
     "execution_count": 23,
     "metadata": {},
     "output_type": "execute_result"
    },
    {
     "data": {
      "image/png": "[encoded data removed]",
      "text/plain": [
       "<Figure size 640x480 with 1 Axes>"
      ]
     },
     "metadata": {},
     "output_type": "display_data"
    }
   ],
   "source": [
    "sns.boxplot(x='SALES', data = df1)"
   ]
  },
  {
   "cell_type": "code",
   "execution_count": 24,
   "id": "4825ebfe-f2b2-45b1-9bbc-4b976779c6a8",
   "metadata": {},
   "outputs": [],
   "source": [
    "Q1 = df1['SALES'].quantile(0.25)\n",
    "Q3 = df1['SALES'].quantile(0.75)\n",
    "IQR = Q3 - Q1\n",
    "\n",
    "upper_bound = Q3 + 1.5 * IQR\n",
    "lower_bound = Q1 - 1.5 * IQR\n",
    "\n",
    "df1_filtered = df1[(df1['SALES'] < upper_bound) & (df1['SALES'] > lower_bound)]\n",
    "\n",
    "df1 = df1_filtered"
   ]
  },
  {
   "cell_type": "code",
   "execution_count": 25,
   "id": "1466c31a-ef25-4d5d-8eb5-f6a9c0e78b6a",
   "metadata": {},
   "outputs": [
    {
     "data": {
      "text/plain": [
       "<Axes: xlabel='SALES'>"
      ]
     },
     "execution_count": 25,
     "metadata": {},
     "output_type": "execute_result"
    },
    {
     "data": {
      "image/png": "[encoded data removed]",
      "text/plain": [
       "<Figure size 640x480 with 1 Axes>"
      ]
     },
     "metadata": {},
     "output_type": "display_data"
    }
   ],
   "source": [
    "sns.boxplot(x='SALES', data = df1)"
   ]
  },
  {
   "cell_type": "code",
   "execution_count": 26,
   "id": "d9b72cbf-a7fd-4e4b-9498-d814b57e8852",
   "metadata": {},
   "outputs": [
    {
     "data": {
      "text/plain": [
       "<Axes: xlabel='STATUS', ylabel='Count'>"
      ]
     },
     "execution_count": 26,
     "metadata": {},
     "output_type": "execute_result"
    },
    {
     "data": {
      "image/png": "[encoded data removed]",
      "text/plain": [
       "<Figure size 640x480 with 1 Axes>"
      ]
     },
     "metadata": {},
     "output_type": "display_data"
    }
   ],
   "source": [
    "sns.histplot(x='STATUS', data = df1 )"
   ]
  },
  {
   "cell_type": "code",
   "execution_count": 28,
   "id": "6b971e7c-6e11-448c-a522-7e8908d890c0",
   "metadata": {},
   "outputs": [
    {
     "data": {
      "text/plain": [
       "Index(['QUANTITYORDERED', 'PRICEEACH', 'ORDERLINENUMBER', 'SALES', 'ORDERDATE',\n",
       "       'STATUS', 'QTR_ID', 'MONTH_ID', 'YEAR_ID', 'PRODUCTLINE', 'MSRP',\n",
       "       'PRODUCTCODE', 'CUSTOMERNAME', 'PHONE', 'ADDRESSLINE1', 'CITY',\n",
       "       'POSTALCODE', 'COUNTRY', 'CONTACTLASTNAME', 'CONTACTFIRSTNAME',\n",
       "       'DEALSIZE'],\n",
       "      dtype='object')"
      ]
     },
     "execution_count": 28,
     "metadata": {},
     "output_type": "execute_result"
    }
   ],
   "source": [
    "df1.columns"
   ]
  },
  {
   "cell_type": "code",
   "execution_count": 32,
   "id": "8f3a1d92-594a-4bd7-993e-8fd8970b370a",
   "metadata": {},
   "outputs": [],
   "source": [
    "product_category=df1.groupby('PRODUCTLINE')['SALES'].count()"
   ]
  },
  {
   "cell_type": "code",
   "execution_count": 34,
   "id": "96d0f86f-0f46-41e4-9ebe-0d5c7710e54a",
   "metadata": {},
   "outputs": [
    {
     "data": {
      "text/plain": [
       "<Axes: xlabel='PRODUCTLINE'>"
      ]
     },
     "execution_count": 34,
     "metadata": {},
     "output_type": "execute_result"
    },
    {
     "data": {
      "image/png": "[encoded data removed]",
      "text/plain": [
       "<Figure size 640x480 with 1 Axes>"
      ]
     },
     "metadata": {},
     "output_type": "display_data"
    }
   ],
   "source": [
    "product_category.plot(kind='bar')"
   ]
  },
  {
   "cell_type": "code",
   "execution_count": 36,
   "id": "3cbff610-7134-472a-9346-20d28f826531",
   "metadata": {},
   "outputs": [
    {
     "data": {
      "text/plain": [
       "<Axes: xlabel='STATUS', ylabel='MONTH_ID'>"
      ]
     },
     "execution_count": 36,
     "metadata": {},
     "output_type": "execute_result"
    },
    {
     "data": {
      "image/png": "[encoded data removed]",
      "text/plain": [
       "<Figure size 640x480 with 1 Axes>"
      ]
     },
     "metadata": {},
     "output_type": "display_data"
    }
   ],
   "source": [
    "sns.boxplot( x=\"STATUS\", y= \"MONTH_ID\", data = df1)"
   ]
  },
  {
   "cell_type": "code",
   "execution_count": null,
   "id": "d8ca1de8-fd8c-4119-a69f-197fdf2cf58e",
   "metadata": {},
   "outputs": [],
   "source": [
    "import matplotlib.pyplot as plt\n",
    "sns.scatterplot( x=\"STATUS\", y=\"MONTH_ID\", data = df1, hue='COUNTRY', size='YEAR_ID')\n",
    "plt.legend(bbox_to_anchor=(1, 1), loc=2)"
   ]
  },
  {
   "cell_type": "code",
   "execution_count": null,
   "id": "bed8ae66-bc09-4bb3-8ae9-6ee78918d0c9",
   "metadata": {},
   "outputs": [],
   "source": [
    "merge the data "
   ]
  }
 ],
 "metadata": {
  "kernelspec": {
   "display_name": "Python 3 (ipykernel)",
   "language": "python",
   "name": "python3"
  },
  "language_info": {
   "codemirror_mode": {
    "name": "ipython",
    "version": 3
   },
   "file_extension": ".py",
   "mimetype": "text/x-python",
   "name": "python",
   "nbconvert_exporter": "python",
   "pygments_lexer": "ipython3",
   "version": "3.12.3"
  }
 },
 "nbformat": 4,
 "nbformat_minor": 5
}
